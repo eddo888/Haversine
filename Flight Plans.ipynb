{
 "cells": [
  {
   "cell_type": "markdown",
   "id": "212e2056",
   "metadata": {},
   "source": [
    "$ pip install tqdm HaversineAPI"
   ]
  },
  {
   "cell_type": "code",
   "execution_count": null,
   "id": "792608f3",
   "metadata": {},
   "outputs": [],
   "source": [
    "import sys, os, re, json, getpass\n",
    "from tqdm.notebook import tqdm\n",
    "from Haversine.haversine import Waypoints, Routes\n",
    "\n",
    "hr = Routes()\n",
    "hr.username = 'eddo888'\n",
    "hr.password = getpass.getpass()"
   ]
  },
  {
   "cell_type": "code",
   "execution_count": 2,
   "id": "e59fd4c0",
   "metadata": {},
   "outputs": [],
   "source": [
    "routes = dict(map(lambda x: (x['name'], x), hr.list()))"
   ]
  },
  {
   "cell_type": "code",
   "execution_count": 3,
   "id": "7f441eb5",
   "metadata": {},
   "outputs": [
    {
     "data": {
      "text/plain": [
       "['EGLL-LFPG',\n",
       " 'YSSY-YMML',\n",
       " 'NZAA-NZCH',\n",
       " 'KEDW-KNKX',\n",
       " 'KEDW-KSFO',\n",
       " 'LIRN-LMML',\n",
       " 'KNKX-KEDW',\n",
       " 'KOPF-KTTS',\n",
       " 'YDBY-YPPH',\n",
       " 'LIRA-LFKJ',\n",
       " 'KLAX-KEDW',\n",
       " 'YSSY-YJBY',\n",
       " 'OMAA-OTHH',\n",
       " 'ZBAD-VHHH',\n",
       " 'YPDN-YDBY',\n",
       " 'RJAA-RJOO',\n",
       " 'LIRI-LICR',\n",
       " 'KEDW-KLAX',\n",
       " 'MTCH-MTPP',\n",
       " 'YSSY-YPAD',\n",
       " 'PHKO-PHNL',\n",
       " 'LIRA-LIPZ',\n",
       " 'YBBN-YBCS',\n",
       " 'KBOS-CYUL',\n",
       " 'MPMG-MPMG',\n",
       " 'LIRA-LIRQ',\n",
       " 'LFPG-EGLL',\n",
       " 'KRAL-KFFZ',\n",
       " 'YBCS-YPDN',\n",
       " 'PGWT-RJOA',\n",
       " 'YPPH-YPAD',\n",
       " 'KLFI-KDCA',\n",
       " 'KRAL-KSFO',\n",
       " 'OMAA-YSSY',\n",
       " 'YMHB-YMML',\n",
       " 'KRAL-KSEA',\n",
       " 'KTTS-KPBI',\n",
       " 'EGPH-EIDW',\n",
       " 'LIRN-LIRA',\n",
       " 'RPLL-RJAA',\n",
       " 'YPAD-YMML',\n",
       " 'HEPS-HECA',\n",
       " 'KPSP-KPSP',\n",
       " 'KSFO-KLAX',\n",
       " 'YSCB-YSSY',\n",
       " 'YSCB-YMML',\n",
       " 'HKMO-HKJK',\n",
       " 'KLAX-KSFO',\n",
       " 'HECA-OMDB',\n",
       " 'KLAX-KSEA',\n",
       " 'KJFK-KIAD',\n",
       " 'LPPT-LEPA',\n",
       " 'VGBR-VQPR',\n",
       " 'KRAL-KLPC',\n",
       " 'CYYC-CYEG',\n",
       " 'KLPC-KRAL',\n",
       " 'KBFI-KSFO',\n",
       " 'YBBN-YMML',\n",
       " 'YBBN-YSSY',\n",
       " 'YBBN-YAYE',\n",
       " 'KSEA-KRAL',\n",
       " 'KIAD-KTTS',\n",
       " 'KSFO-KRAL',\n",
       " 'KJFK-KDCA',\n",
       " 'LEMD-LEBL',\n",
       " 'YSSY-YBBN',\n",
       " 'KSFO-KSEA',\n",
       " 'EGLL-EGPH',\n",
       " 'YPAD-YMHB',\n",
       " 'KJFK-KAFJ',\n",
       " 'BIVM-BIBA',\n",
       " 'YMML-YMHB',\n",
       " 'LGAV-HECA',\n",
       " 'WSSS-WMKK',\n",
       " 'UUEE-ULLI',\n",
       " 'NZCH-NZQN',\n",
       " 'WSSL-WSSS',\n",
       " 'YMHB-YSSY',\n",
       " 'LGAV-LICC',\n",
       " 'YSSY-KLAX',\n",
       " 'YMML-YSSY',\n",
       " 'LIRF-LTFM',\n",
       " 'LIRA-LGAV',\n",
       " 'YSSY-YSCB']"
      ]
     },
     "execution_count": 3,
     "metadata": {},
     "output_type": "execute_result"
    }
   ],
   "source": [
    "names = list(routes.keys())\n",
    "names"
   ]
  },
  {
   "cell_type": "code",
   "execution_count": 4,
   "id": "85164ffc",
   "metadata": {
    "code_folding": []
   },
   "outputs": [],
   "source": [
    "mapper = dict(\n",
    "    ADEP='origin',\n",
    "    DEPRWY='departure_runway',\n",
    "    SID='sid',\n",
    "    #SIDTRANS WOL\n",
    "    ADES='destination',\n",
    "    DESRWY='arrival_runway',\n",
    "    STAR='star',\n",
    "    #STARTRANS ARBEY\n",
    "    APP='approach',\n",
    ")"
   ]
  },
  {
   "cell_type": "code",
   "execution_count": 5,
   "id": "e6859a17",
   "metadata": {
    "code_folding": []
   },
   "outputs": [],
   "source": [
    "def process(file):\n",
    "    path = []\n",
    "    fms = open(file).read()\n",
    "    route = dict()\n",
    "    pattern = re.compile('^(\\S+)\\s+(\\S+)$')\n",
    "    waypoint = re.compile('^(\\d+)\\s+(\\S+)\\s*.*$')\n",
    "\n",
    "    for line in fms.split('\\n'):\n",
    "        #print(line)\n",
    "        match = pattern.match(line)\n",
    "        if match:\n",
    "            #print(match.groups())\n",
    "            key = match.group(1)\n",
    "            value = match.group(2)        \n",
    "            if key in mapper.keys():\n",
    "                route[mapper[key]] = value\n",
    "            continue\n",
    "        match = waypoint.match(line)\n",
    "        if match:\n",
    "            #print(match.groups())\n",
    "            path.append(match.group(2))\n",
    "\n",
    "    route['name'] = f'{route[\"origin\"]}-{route[\"destination\"]}'\n",
    "    route['path'] = ' '.join(path[1:-1])\n",
    "    return route"
   ]
  },
  {
   "cell_type": "code",
   "execution_count": 1,
   "id": "2916b132",
   "metadata": {
    "code_folding": []
   },
   "outputs": [],
   "source": [
    "def upload(route):\n",
    "    name = route[\"name\"]\n",
    "    new_file = f'{name}.json'\n",
    "\n",
    "    if os.path.exists(new_file):\n",
    "        print(f'={new_file}')\n",
    "        with open(new_file) as input:\n",
    "            route = json.load(input)\n",
    "    else:\n",
    "        print(f'+{new_file}')\n",
    "        with open(new_file,'w') as output:\n",
    "            json.dump(route, output, indent='\\t')\n",
    "\n",
    "    if name in names:\n",
    "        print(f'-{name}')\n",
    "        hr.delete(name)\n",
    "        #return\n",
    "  \n",
    "    result = hr.create(new_file)\n",
    "    if result and result['result'] == 'success':\n",
    "        print(f'+{result[\"route\"][\"name\"]}')\n",
    "    else:\n",
    "        try:\n",
    "            print(f'~{name}')\n",
    "            hr.suggest(route['origin'], route['destination'], first=True, output=new_file)\n",
    "            hr.create(new_file)\n",
    "        except:\n",
    "            pass\n",
    "        \n",
    "    return"
   ]
  },
  {
   "cell_type": "code",
   "execution_count": 12,
   "id": "77eeef56",
   "metadata": {},
   "outputs": [
    {
     "data": {
      "application/vnd.jupyter.widget-view+json": {
       "model_id": "ae7e795c4d1949838248ee8e1862f77b",
       "version_major": 2,
       "version_minor": 0
      },
      "text/plain": [
       "  0%|          | 0/1 [00:00<?, ?it/s]"
      ]
     },
     "metadata": {},
     "output_type": "display_data"
    },
    {
     "name": "stdout",
     "output_type": "stream",
     "text": [
      "=YSSY-YMML.json\n",
      "-YSSY-YMML\n",
      "+YSSY-YMML\n",
      "+YSSY-YMML\n"
     ]
    }
   ],
   "source": [
    "for file in tqdm(list(filter(lambda x: os.path.isfile(x) and x.endswith('.fms'), os.listdir('.')))):\n",
    "    try:\n",
    "        route = process(file)\n",
    "        #json.dump(route, sys.stdout, indent='\\t')\n",
    "    except:\n",
    "        continue\n",
    "    result = upload(route)\n"
   ]
  },
  {
   "cell_type": "code",
   "execution_count": null,
   "id": "389a529a",
   "metadata": {},
   "outputs": [],
   "source": []
  }
 ],
 "metadata": {
  "kernelspec": {
   "display_name": "Python 3 (ipykernel)",
   "language": "python",
   "name": "python3"
  },
  "language_info": {
   "codemirror_mode": {
    "name": "ipython",
    "version": 3
   },
   "file_extension": ".py",
   "mimetype": "text/x-python",
   "name": "python",
   "nbconvert_exporter": "python",
   "pygments_lexer": "ipython3",
   "version": "3.9.7"
  }
 },
 "nbformat": 4,
 "nbformat_minor": 5
}
